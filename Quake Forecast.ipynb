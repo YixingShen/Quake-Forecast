{
 "cells": [
  {
   "cell_type": "code",
   "execution_count": 82,
   "metadata": {
    "collapsed": true
   },
   "outputs": [],
   "source": [
    "# Quake Forecast: Predict Time, Location and Magnitude of a Quake\n",
    "import pandas as pd\n",
    "from sklearn.linear_model import LinearRegression\n",
    "from sklearn.ensemble import RandomForestClassifier"
   ]
  },
  {
   "cell_type": "code",
   "execution_count": 83,
   "metadata": {
    "collapsed": true
   },
   "outputs": [],
   "source": [
    "left_half_duration = 3\n",
    "right_half_duration = 1\n",
    "right_half_estimate = 2\n",
    "predict_duration = left_half_duration + right_half_duration + right_half_estimate\n",
    "predict_height = 8"
   ]
  },
  {
   "cell_type": "code",
   "execution_count": 84,
   "metadata": {
    "collapsed": false
   },
   "outputs": [],
   "source": [
    "train = pd.read_csv('quake_signals.csv')"
   ]
  },
  {
   "cell_type": "code",
   "execution_count": 85,
   "metadata": {
    "collapsed": false
   },
   "outputs": [
    {
     "name": "stdout",
     "output_type": "stream",
     "text": [
      "   ID  Duration  Height  Time            USGS Quake Time     Location  \\\n",
      "0   1         4     6.0     2  2017-02-10 22:03:43 UTC+8  Philippines   \n",
      "1   2         1     3.5     1  2017-02-11 00:43:38 UTC+8       Malawi   \n",
      "2   3         2     3.0     2  2017-02-13 11:08:34 UTC+8    Indonesia   \n",
      "3   4         1     2.0     1  2017-02-13 15:17:12 UTC+8       Alaska   \n",
      "4   5         1     3.0     1  2017-02-15 00:26:19 UTC+8        Japan   \n",
      "5   6         2     3.0     1  2017-02-16 03:47:08 UTC+8    Indonesia   \n",
      "6   7         1     4.0     2  2017-02-17 19:21:32 UTC+8    Indonesia   \n",
      "7   8         2     4.0     1  2017-02-19 17:19:30 UTC+8        Japan   \n",
      "\n",
      "   Magnitude  \n",
      "0        6.5  \n",
      "1        5.2  \n",
      "2        5.2  \n",
      "3        5.3  \n",
      "4        5.0  \n",
      "5        5.6  \n",
      "6        5.3  \n",
      "7        5.5  \n"
     ]
    }
   ],
   "source": [
    "print(train)"
   ]
  },
  {
   "cell_type": "code",
   "execution_count": 86,
   "metadata": {
    "collapsed": false
   },
   "outputs": [
    {
     "name": "stdout",
     "output_type": "stream",
     "text": [
      "   Duration  Height\n",
      "0         4     6.0\n",
      "1         1     3.5\n",
      "2         2     3.0\n",
      "3         1     2.0\n",
      "4         1     3.0\n",
      "5         2     3.0\n",
      "6         1     4.0\n",
      "7         2     4.0\n"
     ]
    }
   ],
   "source": [
    "features = ['Duration', 'Height']\n",
    "data = train[features]\n",
    "print(data)"
   ]
  },
  {
   "cell_type": "code",
   "execution_count": 87,
   "metadata": {
    "collapsed": false
   },
   "outputs": [
    {
     "name": "stdout",
     "output_type": "stream",
     "text": [
      "0    2\n",
      "1    1\n",
      "2    2\n",
      "3    1\n",
      "4    1\n",
      "5    1\n",
      "6    2\n",
      "7    1\n",
      "Name: Time, dtype: int64\n",
      "[ 2.50215517]\n",
      "Time:  5.0  days\n"
     ]
    }
   ],
   "source": [
    "# Predict Time\n",
    "target = train['Time']\n",
    "print(target)\n",
    "model = LinearRegression()\n",
    "model.fit(data, target)\n",
    "\n",
    "quake_time = model.predict([[predict_duration, predict_height]])\n",
    "print(quake_time)\n",
    "print('Time: ' , round(right_half_estimate + quake_time[0]), ' days')\n"
   ]
  },
  {
   "cell_type": "code",
   "execution_count": 88,
   "metadata": {
    "collapsed": false
   },
   "outputs": [
    {
     "name": "stdout",
     "output_type": "stream",
     "text": [
      "0    Philippines\n",
      "1         Malawi\n",
      "2      Indonesia\n",
      "3         Alaska\n",
      "4          Japan\n",
      "5      Indonesia\n",
      "6      Indonesia\n",
      "7          Japan\n",
      "Name: Location, dtype: object\n",
      "['Philippines']\n"
     ]
    }
   ],
   "source": [
    "# Predict Location\n",
    "target = train['Location']\n",
    "print(target)\n",
    "model = RandomForestClassifier()\n",
    "model.fit(data, target)\n",
    "\n",
    "quake_location = model.predict([[predict_duration, predict_height]])\n",
    "print(quake_location)"
   ]
  },
  {
   "cell_type": "code",
   "execution_count": 89,
   "metadata": {
    "collapsed": false
   },
   "outputs": [
    {
     "name": "stdout",
     "output_type": "stream",
     "text": [
      "0    6.5\n",
      "1    5.2\n",
      "2    5.2\n",
      "3    5.3\n",
      "4    5.0\n",
      "5    5.6\n",
      "6    5.3\n",
      "7    5.5\n",
      "Name: Magnitude, dtype: float64\n",
      "[ 7.26616379]\n"
     ]
    }
   ],
   "source": [
    "# Predict Magnitude\n",
    "target = train['Magnitude']\n",
    "print(target)\n",
    "model = LinearRegression()\n",
    "model.fit(data, target)\n",
    "\n",
    "quake_magnitude = model.predict([[predict_duration, predict_height]])\n",
    "print(quake_magnitude)"
   ]
  },
  {
   "cell_type": "code",
   "execution_count": null,
   "metadata": {
    "collapsed": true
   },
   "outputs": [],
   "source": []
  }
 ],
 "metadata": {
  "anaconda-cloud": {},
  "kernelspec": {
   "display_name": "Python [default]",
   "language": "python",
   "name": "python3"
  },
  "language_info": {
   "codemirror_mode": {
    "name": "ipython",
    "version": 3
   },
   "file_extension": ".py",
   "mimetype": "text/x-python",
   "name": "python",
   "nbconvert_exporter": "python",
   "pygments_lexer": "ipython3",
   "version": "3.5.2"
  }
 },
 "nbformat": 4,
 "nbformat_minor": 1
}
