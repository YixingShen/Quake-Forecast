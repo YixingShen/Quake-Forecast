{
 "cells": [
  {
   "cell_type": "code",
   "execution_count": 1,
   "metadata": {
    "collapsed": true
   },
   "outputs": [],
   "source": [
    "# Machine Learning: Quake Forecast Location\n",
    "import pandas as pd\n",
    "from sklearn.ensemble import RandomForestClassifier"
   ]
  },
  {
   "cell_type": "code",
   "execution_count": 2,
   "metadata": {
    "collapsed": true
   },
   "outputs": [],
   "source": [
    "train = pd.read_csv('quake_signals.csv')"
   ]
  },
  {
   "cell_type": "code",
   "execution_count": 3,
   "metadata": {
    "collapsed": false
   },
   "outputs": [
    {
     "name": "stdout",
     "output_type": "stream",
     "text": [
      "   ID  Duration  Height  Time            USGS Quake Time     Location  \\\n",
      "0   1       4.0     6.0     2  2017-02-10 22:03:43 UTC+8  Philippines   \n",
      "1   2       1.0     3.5     1  2017-02-11 00:43:38 UTC+8       Malawi   \n",
      "2   3       2.0     3.0     2  2017-02-13 11:08:34 UTC+8    Indonesia   \n",
      "3   4       1.0     2.0     1  2017-02-13 15:17:12 UTC+8       Alaska   \n",
      "4   5       1.0     3.0     1  2017-02-15 00:26:19 UTC+8        Japan   \n",
      "5   6       2.0     3.0     1  2017-02-16 03:47:08 UTC+8    Indonesia   \n",
      "6   7       1.0     4.0     2  2017-02-17 19:21:32 UTC+8    Indonesia   \n",
      "\n",
      "   Magnitude  \n",
      "0        6.5  \n",
      "1        5.2  \n",
      "2        5.2  \n",
      "3        5.3  \n",
      "4        5.0  \n",
      "5        5.6  \n",
      "6        5.3  \n"
     ]
    }
   ],
   "source": [
    "print(train)"
   ]
  },
  {
   "cell_type": "code",
   "execution_count": 4,
   "metadata": {
    "collapsed": true
   },
   "outputs": [],
   "source": [
    "features = ['Duration', 'Height']"
   ]
  },
  {
   "cell_type": "code",
   "execution_count": 5,
   "metadata": {
    "collapsed": true
   },
   "outputs": [],
   "source": [
    "data = train[features]"
   ]
  },
  {
   "cell_type": "code",
   "execution_count": 6,
   "metadata": {
    "collapsed": false
   },
   "outputs": [
    {
     "name": "stdout",
     "output_type": "stream",
     "text": [
      "   Duration  Height\n",
      "0       4.0     6.0\n",
      "1       1.0     3.5\n",
      "2       2.0     3.0\n",
      "3       1.0     2.0\n",
      "4       1.0     3.0\n",
      "5       2.0     3.0\n",
      "6       1.0     4.0\n"
     ]
    }
   ],
   "source": [
    "print(data)"
   ]
  },
  {
   "cell_type": "code",
   "execution_count": 7,
   "metadata": {
    "collapsed": true
   },
   "outputs": [],
   "source": [
    "target = train['Location']\n",
    "print(target)\n",
    "model = RandomForestClassifier()\n",
    "model.fit(data, target)\n",
    "\n",
    "quake_location = model.predict([[2, 4]])\n",
    "print(quake_location)"
   ]
  }
 ],
 "metadata": {
  "anaconda-cloud": {},
  "kernelspec": {
   "display_name": "Python [default]",
   "language": "python",
   "name": "python3"
  },
  "language_info": {
   "codemirror_mode": {
    "name": "ipython",
    "version": 3
   },
   "file_extension": ".py",
   "mimetype": "text/x-python",
   "name": "python",
   "nbconvert_exporter": "python",
   "pygments_lexer": "ipython3",
   "version": "3.5.2"
  }
 },
 "nbformat": 4,
 "nbformat_minor": 1
}
